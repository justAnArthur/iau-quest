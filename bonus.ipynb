{
 "cells": [
  {
   "metadata": {},
   "cell_type": "markdown",
   "source": "Kirill Komarov, Artur Kozubov 54 Dataset. 50%, 50%.",
   "id": "c089aa726b0b0ea3"
  },
  {
   "metadata": {},
   "cell_type": "markdown",
   "source": "# Aktivita na cvičení",
   "id": "625a7c1b9c2610bd"
  },
  {
   "metadata": {
    "ExecuteTime": {
     "end_time": "2024-12-05T22:16:47.982351Z",
     "start_time": "2024-12-05T22:16:47.962202Z"
    }
   },
   "cell_type": "code",
   "source": [
    "import numpy as np\n",
    "import pandas as pd\n",
    "import matplotlib.pyplot as plt\n",
    "from sklearn.preprocessing import MinMaxScaler\n",
    "import torch\n",
    "from torch.utils.data import DataLoader, TensorDataset"
   ],
   "id": "70293b0313ae66a2",
   "outputs": [],
   "execution_count": 82
  },
  {
   "metadata": {},
   "cell_type": "markdown",
   "source": "## Data loading",
   "id": "94fd9df6d448ce6c"
  },
  {
   "metadata": {
    "ExecuteTime": {
     "end_time": "2024-12-05T22:16:50.725771Z",
     "start_time": "2024-12-05T22:16:48.169943Z"
    }
   },
   "cell_type": "code",
   "source": [
    "stocks = pd.read_csv('./bonus/sp500_stocks.csv')\n",
    "stocks.info()\n",
    "stocks.head()"
   ],
   "id": "dd5de9b4d998dec4",
   "outputs": [
    {
     "name": "stdout",
     "output_type": "stream",
     "text": [
      "<class 'pandas.core.frame.DataFrame'>\n",
      "RangeIndex: 1887759 entries, 0 to 1887758\n",
      "Data columns (total 8 columns):\n",
      " #   Column     Dtype  \n",
      "---  ------     -----  \n",
      " 0   Date       object \n",
      " 1   Symbol     object \n",
      " 2   Adj Close  float64\n",
      " 3   Close      float64\n",
      " 4   High       float64\n",
      " 5   Low        float64\n",
      " 6   Open       float64\n",
      " 7   Volume     float64\n",
      "dtypes: float64(6), object(2)\n",
      "memory usage: 115.2+ MB\n"
     ]
    },
    {
     "data": {
      "text/plain": [
       "         Date Symbol  Adj Close      Close       High        Low       Open  \\\n",
       "0  2010-01-04    MMM  43.783863  69.414719  69.774246  69.122070  69.473244   \n",
       "1  2010-01-05    MMM  43.509640  68.979935  69.590302  68.311035  69.230766   \n",
       "2  2010-01-06    MMM  44.126667  69.958191  70.735786  69.824417  70.133781   \n",
       "3  2010-01-07    MMM  44.158310  70.008362  70.033447  68.662209  69.665550   \n",
       "4  2010-01-08    MMM  44.469475  70.501671  70.501671  69.648827  69.974915   \n",
       "\n",
       "      Volume  \n",
       "0  3640265.0  \n",
       "1  3405012.0  \n",
       "2  6301126.0  \n",
       "3  5346240.0  \n",
       "4  4073337.0  "
      ],
      "text/html": [
       "<div>\n",
       "<style scoped>\n",
       "    .dataframe tbody tr th:only-of-type {\n",
       "        vertical-align: middle;\n",
       "    }\n",
       "\n",
       "    .dataframe tbody tr th {\n",
       "        vertical-align: top;\n",
       "    }\n",
       "\n",
       "    .dataframe thead th {\n",
       "        text-align: right;\n",
       "    }\n",
       "</style>\n",
       "<table border=\"1\" class=\"dataframe\">\n",
       "  <thead>\n",
       "    <tr style=\"text-align: right;\">\n",
       "      <th></th>\n",
       "      <th>Date</th>\n",
       "      <th>Symbol</th>\n",
       "      <th>Adj Close</th>\n",
       "      <th>Close</th>\n",
       "      <th>High</th>\n",
       "      <th>Low</th>\n",
       "      <th>Open</th>\n",
       "      <th>Volume</th>\n",
       "    </tr>\n",
       "  </thead>\n",
       "  <tbody>\n",
       "    <tr>\n",
       "      <th>0</th>\n",
       "      <td>2010-01-04</td>\n",
       "      <td>MMM</td>\n",
       "      <td>43.783863</td>\n",
       "      <td>69.414719</td>\n",
       "      <td>69.774246</td>\n",
       "      <td>69.122070</td>\n",
       "      <td>69.473244</td>\n",
       "      <td>3640265.0</td>\n",
       "    </tr>\n",
       "    <tr>\n",
       "      <th>1</th>\n",
       "      <td>2010-01-05</td>\n",
       "      <td>MMM</td>\n",
       "      <td>43.509640</td>\n",
       "      <td>68.979935</td>\n",
       "      <td>69.590302</td>\n",
       "      <td>68.311035</td>\n",
       "      <td>69.230766</td>\n",
       "      <td>3405012.0</td>\n",
       "    </tr>\n",
       "    <tr>\n",
       "      <th>2</th>\n",
       "      <td>2010-01-06</td>\n",
       "      <td>MMM</td>\n",
       "      <td>44.126667</td>\n",
       "      <td>69.958191</td>\n",
       "      <td>70.735786</td>\n",
       "      <td>69.824417</td>\n",
       "      <td>70.133781</td>\n",
       "      <td>6301126.0</td>\n",
       "    </tr>\n",
       "    <tr>\n",
       "      <th>3</th>\n",
       "      <td>2010-01-07</td>\n",
       "      <td>MMM</td>\n",
       "      <td>44.158310</td>\n",
       "      <td>70.008362</td>\n",
       "      <td>70.033447</td>\n",
       "      <td>68.662209</td>\n",
       "      <td>69.665550</td>\n",
       "      <td>5346240.0</td>\n",
       "    </tr>\n",
       "    <tr>\n",
       "      <th>4</th>\n",
       "      <td>2010-01-08</td>\n",
       "      <td>MMM</td>\n",
       "      <td>44.469475</td>\n",
       "      <td>70.501671</td>\n",
       "      <td>70.501671</td>\n",
       "      <td>69.648827</td>\n",
       "      <td>69.974915</td>\n",
       "      <td>4073337.0</td>\n",
       "    </tr>\n",
       "  </tbody>\n",
       "</table>\n",
       "</div>"
      ]
     },
     "execution_count": 83,
     "metadata": {},
     "output_type": "execute_result"
    }
   ],
   "execution_count": 83
  },
  {
   "metadata": {
    "ExecuteTime": {
     "end_time": "2024-12-05T22:16:50.922144Z",
     "start_time": "2024-12-05T22:16:50.889142Z"
    }
   },
   "cell_type": "code",
   "source": [
    "index = pd.read_csv('./bonus/sp500_index.csv')\n",
    "index.info()\n",
    "index.head()"
   ],
   "id": "82e620d9254e78e8",
   "outputs": [
    {
     "name": "stdout",
     "output_type": "stream",
     "text": [
      "<class 'pandas.core.frame.DataFrame'>\n",
      "RangeIndex: 2517 entries, 0 to 2516\n",
      "Data columns (total 2 columns):\n",
      " #   Column  Non-Null Count  Dtype  \n",
      "---  ------  --------------  -----  \n",
      " 0   Date    2517 non-null   object \n",
      " 1   S&P500  2517 non-null   float64\n",
      "dtypes: float64(1), object(1)\n",
      "memory usage: 39.5+ KB\n"
     ]
    },
    {
     "data": {
      "text/plain": [
       "         Date   S&P500\n",
       "0  2014-12-01  2053.44\n",
       "1  2014-12-02  2066.55\n",
       "2  2014-12-03  2074.33\n",
       "3  2014-12-04  2071.92\n",
       "4  2014-12-05  2075.37"
      ],
      "text/html": [
       "<div>\n",
       "<style scoped>\n",
       "    .dataframe tbody tr th:only-of-type {\n",
       "        vertical-align: middle;\n",
       "    }\n",
       "\n",
       "    .dataframe tbody tr th {\n",
       "        vertical-align: top;\n",
       "    }\n",
       "\n",
       "    .dataframe thead th {\n",
       "        text-align: right;\n",
       "    }\n",
       "</style>\n",
       "<table border=\"1\" class=\"dataframe\">\n",
       "  <thead>\n",
       "    <tr style=\"text-align: right;\">\n",
       "      <th></th>\n",
       "      <th>Date</th>\n",
       "      <th>S&amp;P500</th>\n",
       "    </tr>\n",
       "  </thead>\n",
       "  <tbody>\n",
       "    <tr>\n",
       "      <th>0</th>\n",
       "      <td>2014-12-01</td>\n",
       "      <td>2053.44</td>\n",
       "    </tr>\n",
       "    <tr>\n",
       "      <th>1</th>\n",
       "      <td>2014-12-02</td>\n",
       "      <td>2066.55</td>\n",
       "    </tr>\n",
       "    <tr>\n",
       "      <th>2</th>\n",
       "      <td>2014-12-03</td>\n",
       "      <td>2074.33</td>\n",
       "    </tr>\n",
       "    <tr>\n",
       "      <th>3</th>\n",
       "      <td>2014-12-04</td>\n",
       "      <td>2071.92</td>\n",
       "    </tr>\n",
       "    <tr>\n",
       "      <th>4</th>\n",
       "      <td>2014-12-05</td>\n",
       "      <td>2075.37</td>\n",
       "    </tr>\n",
       "  </tbody>\n",
       "</table>\n",
       "</div>"
      ]
     },
     "execution_count": 84,
     "metadata": {},
     "output_type": "execute_result"
    }
   ],
   "execution_count": 84
  },
  {
   "metadata": {
    "collapsed": true,
    "ExecuteTime": {
     "end_time": "2024-12-05T22:16:52.348626Z",
     "start_time": "2024-12-05T22:16:52.268295Z"
    }
   },
   "cell_type": "code",
   "source": [
    "companies = pd.read_csv('./bonus/sp500_companies.csv')\n",
    "companies.info()\n",
    "companies.head()"
   ],
   "id": "initial_id",
   "outputs": [
    {
     "name": "stdout",
     "output_type": "stream",
     "text": [
      "<class 'pandas.core.frame.DataFrame'>\n",
      "RangeIndex: 503 entries, 0 to 502\n",
      "Data columns (total 16 columns):\n",
      " #   Column               Non-Null Count  Dtype  \n",
      "---  ------               --------------  -----  \n",
      " 0   Exchange             503 non-null    object \n",
      " 1   Symbol               503 non-null    object \n",
      " 2   Shortname            503 non-null    object \n",
      " 3   Longname             503 non-null    object \n",
      " 4   Sector               503 non-null    object \n",
      " 5   Industry             503 non-null    object \n",
      " 6   Currentprice         503 non-null    float64\n",
      " 7   Marketcap            503 non-null    int64  \n",
      " 8   Ebitda               474 non-null    float64\n",
      " 9   Revenuegrowth        500 non-null    float64\n",
      " 10  City                 503 non-null    object \n",
      " 11  State                483 non-null    object \n",
      " 12  Country              503 non-null    object \n",
      " 13  Fulltimeemployees    494 non-null    float64\n",
      " 14  Longbusinesssummary  503 non-null    object \n",
      " 15  Weight               503 non-null    float64\n",
      "dtypes: float64(5), int64(1), object(10)\n",
      "memory usage: 63.0+ KB\n"
     ]
    },
    {
     "data": {
      "text/plain": [
       "  Exchange Symbol              Shortname               Longname  \\\n",
       "0      NMS   AAPL             Apple Inc.             Apple Inc.   \n",
       "1      NMS   NVDA     NVIDIA Corporation     NVIDIA Corporation   \n",
       "2      NMS   MSFT  Microsoft Corporation  Microsoft Corporation   \n",
       "3      NMS   AMZN       Amazon.com, Inc.       Amazon.com, Inc.   \n",
       "4      NMS  GOOGL          Alphabet Inc.          Alphabet Inc.   \n",
       "\n",
       "                   Sector                        Industry  Currentprice  \\\n",
       "0              Technology            Consumer Electronics        237.33   \n",
       "1              Technology                  Semiconductors        138.25   \n",
       "2              Technology       Software - Infrastructure        423.46   \n",
       "3       Consumer Cyclical                 Internet Retail        207.89   \n",
       "4  Communication Services  Internet Content & Information        168.95   \n",
       "\n",
       "       Marketcap        Ebitda  Revenuegrowth           City State  \\\n",
       "0  3587432775680  1.346610e+11          0.061      Cupertino    CA   \n",
       "1  3385742589952  6.118400e+10          1.224    Santa Clara    CA   \n",
       "2  3148374343680  1.365520e+11          0.160        Redmond    WA   \n",
       "3  2185963372544  1.115830e+11          0.110        Seattle    WA   \n",
       "4  2080348962816  1.234700e+11          0.151  Mountain View    CA   \n",
       "\n",
       "         Country  Fulltimeemployees  \\\n",
       "0  United States           164000.0   \n",
       "1  United States            29600.0   \n",
       "2  United States           228000.0   \n",
       "3  United States          1551000.0   \n",
       "4  United States           181269.0   \n",
       "\n",
       "                                 Longbusinesssummary    Weight  \n",
       "0  Apple Inc. designs, manufactures, and markets ...  0.063810  \n",
       "1  NVIDIA Corporation provides graphics and compu...  0.060223  \n",
       "2  Microsoft Corporation develops and supports so...  0.056000  \n",
       "3  Amazon.com, Inc. engages in the retail sale of...  0.038882  \n",
       "4  Alphabet Inc. offers various products and plat...  0.037003  "
      ],
      "text/html": [
       "<div>\n",
       "<style scoped>\n",
       "    .dataframe tbody tr th:only-of-type {\n",
       "        vertical-align: middle;\n",
       "    }\n",
       "\n",
       "    .dataframe tbody tr th {\n",
       "        vertical-align: top;\n",
       "    }\n",
       "\n",
       "    .dataframe thead th {\n",
       "        text-align: right;\n",
       "    }\n",
       "</style>\n",
       "<table border=\"1\" class=\"dataframe\">\n",
       "  <thead>\n",
       "    <tr style=\"text-align: right;\">\n",
       "      <th></th>\n",
       "      <th>Exchange</th>\n",
       "      <th>Symbol</th>\n",
       "      <th>Shortname</th>\n",
       "      <th>Longname</th>\n",
       "      <th>Sector</th>\n",
       "      <th>Industry</th>\n",
       "      <th>Currentprice</th>\n",
       "      <th>Marketcap</th>\n",
       "      <th>Ebitda</th>\n",
       "      <th>Revenuegrowth</th>\n",
       "      <th>City</th>\n",
       "      <th>State</th>\n",
       "      <th>Country</th>\n",
       "      <th>Fulltimeemployees</th>\n",
       "      <th>Longbusinesssummary</th>\n",
       "      <th>Weight</th>\n",
       "    </tr>\n",
       "  </thead>\n",
       "  <tbody>\n",
       "    <tr>\n",
       "      <th>0</th>\n",
       "      <td>NMS</td>\n",
       "      <td>AAPL</td>\n",
       "      <td>Apple Inc.</td>\n",
       "      <td>Apple Inc.</td>\n",
       "      <td>Technology</td>\n",
       "      <td>Consumer Electronics</td>\n",
       "      <td>237.33</td>\n",
       "      <td>3587432775680</td>\n",
       "      <td>1.346610e+11</td>\n",
       "      <td>0.061</td>\n",
       "      <td>Cupertino</td>\n",
       "      <td>CA</td>\n",
       "      <td>United States</td>\n",
       "      <td>164000.0</td>\n",
       "      <td>Apple Inc. designs, manufactures, and markets ...</td>\n",
       "      <td>0.063810</td>\n",
       "    </tr>\n",
       "    <tr>\n",
       "      <th>1</th>\n",
       "      <td>NMS</td>\n",
       "      <td>NVDA</td>\n",
       "      <td>NVIDIA Corporation</td>\n",
       "      <td>NVIDIA Corporation</td>\n",
       "      <td>Technology</td>\n",
       "      <td>Semiconductors</td>\n",
       "      <td>138.25</td>\n",
       "      <td>3385742589952</td>\n",
       "      <td>6.118400e+10</td>\n",
       "      <td>1.224</td>\n",
       "      <td>Santa Clara</td>\n",
       "      <td>CA</td>\n",
       "      <td>United States</td>\n",
       "      <td>29600.0</td>\n",
       "      <td>NVIDIA Corporation provides graphics and compu...</td>\n",
       "      <td>0.060223</td>\n",
       "    </tr>\n",
       "    <tr>\n",
       "      <th>2</th>\n",
       "      <td>NMS</td>\n",
       "      <td>MSFT</td>\n",
       "      <td>Microsoft Corporation</td>\n",
       "      <td>Microsoft Corporation</td>\n",
       "      <td>Technology</td>\n",
       "      <td>Software - Infrastructure</td>\n",
       "      <td>423.46</td>\n",
       "      <td>3148374343680</td>\n",
       "      <td>1.365520e+11</td>\n",
       "      <td>0.160</td>\n",
       "      <td>Redmond</td>\n",
       "      <td>WA</td>\n",
       "      <td>United States</td>\n",
       "      <td>228000.0</td>\n",
       "      <td>Microsoft Corporation develops and supports so...</td>\n",
       "      <td>0.056000</td>\n",
       "    </tr>\n",
       "    <tr>\n",
       "      <th>3</th>\n",
       "      <td>NMS</td>\n",
       "      <td>AMZN</td>\n",
       "      <td>Amazon.com, Inc.</td>\n",
       "      <td>Amazon.com, Inc.</td>\n",
       "      <td>Consumer Cyclical</td>\n",
       "      <td>Internet Retail</td>\n",
       "      <td>207.89</td>\n",
       "      <td>2185963372544</td>\n",
       "      <td>1.115830e+11</td>\n",
       "      <td>0.110</td>\n",
       "      <td>Seattle</td>\n",
       "      <td>WA</td>\n",
       "      <td>United States</td>\n",
       "      <td>1551000.0</td>\n",
       "      <td>Amazon.com, Inc. engages in the retail sale of...</td>\n",
       "      <td>0.038882</td>\n",
       "    </tr>\n",
       "    <tr>\n",
       "      <th>4</th>\n",
       "      <td>NMS</td>\n",
       "      <td>GOOGL</td>\n",
       "      <td>Alphabet Inc.</td>\n",
       "      <td>Alphabet Inc.</td>\n",
       "      <td>Communication Services</td>\n",
       "      <td>Internet Content &amp; Information</td>\n",
       "      <td>168.95</td>\n",
       "      <td>2080348962816</td>\n",
       "      <td>1.234700e+11</td>\n",
       "      <td>0.151</td>\n",
       "      <td>Mountain View</td>\n",
       "      <td>CA</td>\n",
       "      <td>United States</td>\n",
       "      <td>181269.0</td>\n",
       "      <td>Alphabet Inc. offers various products and plat...</td>\n",
       "      <td>0.037003</td>\n",
       "    </tr>\n",
       "  </tbody>\n",
       "</table>\n",
       "</div>"
      ]
     },
     "execution_count": 85,
     "metadata": {},
     "output_type": "execute_result"
    }
   ],
   "execution_count": 85
  },
  {
   "metadata": {},
   "cell_type": "markdown",
   "source": "## Data exploration",
   "id": "b4ac57f1c0c5b877"
  },
  {
   "metadata": {
    "ExecuteTime": {
     "end_time": "2024-12-05T22:16:53.653530Z",
     "start_time": "2024-12-05T22:16:52.489536Z"
    }
   },
   "cell_type": "code",
   "source": "print(stocks.describe())",
   "id": "b4eb4a14b49ef291",
   "outputs": [
    {
     "name": "stdout",
     "output_type": "stream",
     "text": [
      "          Adj Close         Close          High           Low          Open  \\\n",
      "count  1.767368e+06  1.767368e+06  1.767368e+06  1.767368e+06  1.767368e+06   \n",
      "mean   9.756522e+01  1.056547e+02  1.068040e+02  1.044486e+02  1.056350e+02   \n",
      "std    2.168748e+02  2.172462e+02  2.197270e+02  2.146762e+02  2.171547e+02   \n",
      "min    2.036069e-01  2.220000e-01  2.262500e-01  2.162500e-01  2.180000e-01   \n",
      "25%    2.872068e+01  3.501000e+01  3.540000e+01  3.461000e+01  3.500000e+01   \n",
      "50%    5.360977e+01  6.304238e+01  6.367862e+01  6.237000e+01  6.302000e+01   \n",
      "75%    1.034511e+02  1.142200e+02  1.154000e+02  1.130000e+02  1.142100e+02   \n",
      "max    9.924400e+03  9.924400e+03  9.964770e+03  9.794000e+03  9.914170e+03   \n",
      "\n",
      "             Volume  \n",
      "count  1.767368e+06  \n",
      "mean   6.989389e+06  \n",
      "std    3.318534e+07  \n",
      "min    0.000000e+00  \n",
      "25%    1.001400e+06  \n",
      "50%    2.180206e+06  \n",
      "75%    5.000200e+06  \n",
      "max    3.692928e+09  \n"
     ]
    }
   ],
   "execution_count": 86
  },
  {
   "metadata": {
    "ExecuteTime": {
     "end_time": "2024-12-05T22:16:53.793849Z",
     "start_time": "2024-12-05T22:16:53.767550Z"
    }
   },
   "cell_type": "code",
   "source": "print(index.describe())",
   "id": "dae1dc5098d7e5d1",
   "outputs": [
    {
     "name": "stdout",
     "output_type": "stream",
     "text": [
      "            S&P500\n",
      "count  2517.000000\n",
      "mean   3322.599007\n",
      "std    1062.641587\n",
      "min    1829.080000\n",
      "25%    2404.390000\n",
      "50%    2984.870000\n",
      "75%    4183.960000\n",
      "max    6032.380000\n"
     ]
    }
   ],
   "execution_count": 87
  },
  {
   "metadata": {
    "ExecuteTime": {
     "end_time": "2024-12-05T22:16:54.158846Z",
     "start_time": "2024-12-05T22:16:54.128820Z"
    }
   },
   "cell_type": "code",
   "source": "print(companies.describe())",
   "id": "9c0fed3be38c495",
   "outputs": [
    {
     "name": "stdout",
     "output_type": "stream",
     "text": [
      "       Currentprice     Marketcap        Ebitda  Revenuegrowth  \\\n",
      "count    503.000000  5.030000e+02  4.740000e+02     500.000000   \n",
      "mean     232.918091  1.117704e+11  7.031397e+09       0.070484   \n",
      "std      528.709518  3.267621e+11  1.622777e+10       0.180071   \n",
      "min        9.020000  5.924404e+09 -3.991000e+09      -0.602000   \n",
      "25%       71.735000  2.074613e+10  1.623194e+09       0.002000   \n",
      "50%      132.310000  3.846988e+10  2.941705e+09       0.050000   \n",
      "75%      243.990000  8.546197e+10  6.017250e+09       0.109000   \n",
      "max     9235.580000  3.587433e+12  1.495470e+11       1.632000   \n",
      "\n",
      "       Fulltimeemployees      Weight  \n",
      "count       4.940000e+02  503.000000  \n",
      "mean        5.774496e+04    0.001988  \n",
      "std         1.394693e+05    0.005812  \n",
      "min         2.800000e+01    0.000105  \n",
      "25%         1.020000e+04    0.000369  \n",
      "50%         2.159500e+04    0.000684  \n",
      "75%         5.476225e+04    0.001520  \n",
      "max         2.100000e+06    0.063810  \n"
     ]
    }
   ],
   "execution_count": 88
  },
  {
   "metadata": {},
   "cell_type": "markdown",
   "source": "## Data merging",
   "id": "e8593dfd7a713ff6"
  },
  {
   "metadata": {
    "ExecuteTime": {
     "end_time": "2024-12-05T22:16:55.556416Z",
     "start_time": "2024-12-05T22:16:54.290820Z"
    }
   },
   "cell_type": "code",
   "source": "df_start = pd.merge(stocks, companies, on='Symbol', how='inner')",
   "id": "ed3fff1f0b629a41",
   "outputs": [],
   "execution_count": 89
  },
  {
   "metadata": {
    "ExecuteTime": {
     "end_time": "2024-12-05T22:16:57.485656Z",
     "start_time": "2024-12-05T22:16:55.565428Z"
    }
   },
   "cell_type": "code",
   "source": "df = pd.merge(df_start, index, on='Date', how='inner')",
   "id": "613465bbbe05c07f",
   "outputs": [],
   "execution_count": 90
  },
  {
   "metadata": {
    "ExecuteTime": {
     "end_time": "2024-12-05T22:16:57.873790Z",
     "start_time": "2024-12-05T22:16:57.806681Z"
    }
   },
   "cell_type": "code",
   "source": "df.head()",
   "id": "15ea8c3300666e1c",
   "outputs": [
    {
     "data": {
      "text/plain": [
       "         Date Symbol  Adj Close       Close        High         Low  \\\n",
       "0  2014-12-01    MMM  94.401512  132.240799  133.369568  131.989960   \n",
       "1  2014-12-02    MMM  95.857910  134.280930  134.431442  132.558533   \n",
       "2  2014-12-03    MMM  96.848724  135.668900  135.819397  133.921402   \n",
       "3  2014-12-04    MMM  96.848724  135.668900  136.220734  134.531769   \n",
       "4  2014-12-05    MMM  96.854668  135.677261  136.204010  135.351166   \n",
       "\n",
       "         Open     Volume Exchange   Shortname  ...    Marketcap        Ebitda  \\\n",
       "0  132.399673  2992512.0      NYQ  3M Company  ...  72714960896  8.117000e+09   \n",
       "1  132.759201  2995262.0      NYQ  3M Company  ...  72714960896  8.117000e+09   \n",
       "2  134.698990  3634405.0      NYQ  3M Company  ...  72714960896  8.117000e+09   \n",
       "3  135.451508  2588383.0      NYQ  3M Company  ...  72714960896  8.117000e+09   \n",
       "4  135.785950  2060230.0      NYQ  3M Company  ...  72714960896  8.117000e+09   \n",
       "\n",
       "  Revenuegrowth        City  State        Country  Fulltimeemployees  \\\n",
       "0         0.004  Saint Paul     MN  United States            85000.0   \n",
       "1         0.004  Saint Paul     MN  United States            85000.0   \n",
       "2         0.004  Saint Paul     MN  United States            85000.0   \n",
       "3         0.004  Saint Paul     MN  United States            85000.0   \n",
       "4         0.004  Saint Paul     MN  United States            85000.0   \n",
       "\n",
       "                                 Longbusinesssummary    Weight   S&P500  \n",
       "0  3M Company provides diversified technology ser...  0.001293  2053.44  \n",
       "1  3M Company provides diversified technology ser...  0.001293  2066.55  \n",
       "2  3M Company provides diversified technology ser...  0.001293  2074.33  \n",
       "3  3M Company provides diversified technology ser...  0.001293  2071.92  \n",
       "4  3M Company provides diversified technology ser...  0.001293  2075.37  \n",
       "\n",
       "[5 rows x 24 columns]"
      ],
      "text/html": [
       "<div>\n",
       "<style scoped>\n",
       "    .dataframe tbody tr th:only-of-type {\n",
       "        vertical-align: middle;\n",
       "    }\n",
       "\n",
       "    .dataframe tbody tr th {\n",
       "        vertical-align: top;\n",
       "    }\n",
       "\n",
       "    .dataframe thead th {\n",
       "        text-align: right;\n",
       "    }\n",
       "</style>\n",
       "<table border=\"1\" class=\"dataframe\">\n",
       "  <thead>\n",
       "    <tr style=\"text-align: right;\">\n",
       "      <th></th>\n",
       "      <th>Date</th>\n",
       "      <th>Symbol</th>\n",
       "      <th>Adj Close</th>\n",
       "      <th>Close</th>\n",
       "      <th>High</th>\n",
       "      <th>Low</th>\n",
       "      <th>Open</th>\n",
       "      <th>Volume</th>\n",
       "      <th>Exchange</th>\n",
       "      <th>Shortname</th>\n",
       "      <th>...</th>\n",
       "      <th>Marketcap</th>\n",
       "      <th>Ebitda</th>\n",
       "      <th>Revenuegrowth</th>\n",
       "      <th>City</th>\n",
       "      <th>State</th>\n",
       "      <th>Country</th>\n",
       "      <th>Fulltimeemployees</th>\n",
       "      <th>Longbusinesssummary</th>\n",
       "      <th>Weight</th>\n",
       "      <th>S&amp;P500</th>\n",
       "    </tr>\n",
       "  </thead>\n",
       "  <tbody>\n",
       "    <tr>\n",
       "      <th>0</th>\n",
       "      <td>2014-12-01</td>\n",
       "      <td>MMM</td>\n",
       "      <td>94.401512</td>\n",
       "      <td>132.240799</td>\n",
       "      <td>133.369568</td>\n",
       "      <td>131.989960</td>\n",
       "      <td>132.399673</td>\n",
       "      <td>2992512.0</td>\n",
       "      <td>NYQ</td>\n",
       "      <td>3M Company</td>\n",
       "      <td>...</td>\n",
       "      <td>72714960896</td>\n",
       "      <td>8.117000e+09</td>\n",
       "      <td>0.004</td>\n",
       "      <td>Saint Paul</td>\n",
       "      <td>MN</td>\n",
       "      <td>United States</td>\n",
       "      <td>85000.0</td>\n",
       "      <td>3M Company provides diversified technology ser...</td>\n",
       "      <td>0.001293</td>\n",
       "      <td>2053.44</td>\n",
       "    </tr>\n",
       "    <tr>\n",
       "      <th>1</th>\n",
       "      <td>2014-12-02</td>\n",
       "      <td>MMM</td>\n",
       "      <td>95.857910</td>\n",
       "      <td>134.280930</td>\n",
       "      <td>134.431442</td>\n",
       "      <td>132.558533</td>\n",
       "      <td>132.759201</td>\n",
       "      <td>2995262.0</td>\n",
       "      <td>NYQ</td>\n",
       "      <td>3M Company</td>\n",
       "      <td>...</td>\n",
       "      <td>72714960896</td>\n",
       "      <td>8.117000e+09</td>\n",
       "      <td>0.004</td>\n",
       "      <td>Saint Paul</td>\n",
       "      <td>MN</td>\n",
       "      <td>United States</td>\n",
       "      <td>85000.0</td>\n",
       "      <td>3M Company provides diversified technology ser...</td>\n",
       "      <td>0.001293</td>\n",
       "      <td>2066.55</td>\n",
       "    </tr>\n",
       "    <tr>\n",
       "      <th>2</th>\n",
       "      <td>2014-12-03</td>\n",
       "      <td>MMM</td>\n",
       "      <td>96.848724</td>\n",
       "      <td>135.668900</td>\n",
       "      <td>135.819397</td>\n",
       "      <td>133.921402</td>\n",
       "      <td>134.698990</td>\n",
       "      <td>3634405.0</td>\n",
       "      <td>NYQ</td>\n",
       "      <td>3M Company</td>\n",
       "      <td>...</td>\n",
       "      <td>72714960896</td>\n",
       "      <td>8.117000e+09</td>\n",
       "      <td>0.004</td>\n",
       "      <td>Saint Paul</td>\n",
       "      <td>MN</td>\n",
       "      <td>United States</td>\n",
       "      <td>85000.0</td>\n",
       "      <td>3M Company provides diversified technology ser...</td>\n",
       "      <td>0.001293</td>\n",
       "      <td>2074.33</td>\n",
       "    </tr>\n",
       "    <tr>\n",
       "      <th>3</th>\n",
       "      <td>2014-12-04</td>\n",
       "      <td>MMM</td>\n",
       "      <td>96.848724</td>\n",
       "      <td>135.668900</td>\n",
       "      <td>136.220734</td>\n",
       "      <td>134.531769</td>\n",
       "      <td>135.451508</td>\n",
       "      <td>2588383.0</td>\n",
       "      <td>NYQ</td>\n",
       "      <td>3M Company</td>\n",
       "      <td>...</td>\n",
       "      <td>72714960896</td>\n",
       "      <td>8.117000e+09</td>\n",
       "      <td>0.004</td>\n",
       "      <td>Saint Paul</td>\n",
       "      <td>MN</td>\n",
       "      <td>United States</td>\n",
       "      <td>85000.0</td>\n",
       "      <td>3M Company provides diversified technology ser...</td>\n",
       "      <td>0.001293</td>\n",
       "      <td>2071.92</td>\n",
       "    </tr>\n",
       "    <tr>\n",
       "      <th>4</th>\n",
       "      <td>2014-12-05</td>\n",
       "      <td>MMM</td>\n",
       "      <td>96.854668</td>\n",
       "      <td>135.677261</td>\n",
       "      <td>136.204010</td>\n",
       "      <td>135.351166</td>\n",
       "      <td>135.785950</td>\n",
       "      <td>2060230.0</td>\n",
       "      <td>NYQ</td>\n",
       "      <td>3M Company</td>\n",
       "      <td>...</td>\n",
       "      <td>72714960896</td>\n",
       "      <td>8.117000e+09</td>\n",
       "      <td>0.004</td>\n",
       "      <td>Saint Paul</td>\n",
       "      <td>MN</td>\n",
       "      <td>United States</td>\n",
       "      <td>85000.0</td>\n",
       "      <td>3M Company provides diversified technology ser...</td>\n",
       "      <td>0.001293</td>\n",
       "      <td>2075.37</td>\n",
       "    </tr>\n",
       "  </tbody>\n",
       "</table>\n",
       "<p>5 rows × 24 columns</p>\n",
       "</div>"
      ]
     },
     "execution_count": 91,
     "metadata": {},
     "output_type": "execute_result"
    }
   ],
   "execution_count": 91
  },
  {
   "metadata": {},
   "cell_type": "markdown",
   "source": "## Data cleaning",
   "id": "b2f777e825ccab72"
  },
  {
   "metadata": {
    "ExecuteTime": {
     "end_time": "2024-12-05T22:16:58.723527Z",
     "start_time": "2024-12-05T22:16:58.075359Z"
    }
   },
   "cell_type": "code",
   "source": "print(df.isnull().sum())",
   "id": "7dc40434d3d36aa3",
   "outputs": [
    {
     "name": "stdout",
     "output_type": "stream",
     "text": [
      "Date                       0\n",
      "Symbol                     0\n",
      "Adj Close              49295\n",
      "Close                  49295\n",
      "High                   49295\n",
      "Low                    49295\n",
      "Open                   49295\n",
      "Volume                 49295\n",
      "Exchange                   0\n",
      "Shortname                  0\n",
      "Longname                   0\n",
      "Sector                     0\n",
      "Industry                   0\n",
      "Currentprice               0\n",
      "Marketcap                  0\n",
      "Ebitda                 72993\n",
      "Revenuegrowth           7551\n",
      "City                       0\n",
      "State                  50340\n",
      "Country                    0\n",
      "Fulltimeemployees      22653\n",
      "Longbusinesssummary        0\n",
      "Weight                     0\n",
      "S&P500                     0\n",
      "dtype: int64\n"
     ]
    }
   ],
   "execution_count": 92
  },
  {
   "metadata": {
    "ExecuteTime": {
     "end_time": "2024-12-05T22:16:59.682772Z",
     "start_time": "2024-12-05T22:16:58.827165Z"
    }
   },
   "cell_type": "code",
   "source": "df.dropna(inplace=True)",
   "id": "de98a0f61295307d",
   "outputs": [],
   "execution_count": 93
  },
  {
   "metadata": {
    "ExecuteTime": {
     "end_time": "2024-12-05T22:17:23.885340Z",
     "start_time": "2024-12-05T22:16:59.691782Z"
    }
   },
   "cell_type": "code",
   "source": [
    "plt.figure(figsize=(15, 7.5))\n",
    "plt.plot(index['Date'], index['S&P500'], color='red')\n",
    "plt.xlabel('All time period')\n",
    "plt.ylabel('Index Value')\n",
    "plt.title('S&P 500 Index')\n",
    "plt.show()\n"
   ],
   "id": "bae884affd1267db",
   "outputs": [
    {
     "data": {
      "text/plain": [
       "<Figure size 1500x750 with 1 Axes>"
      ],
      "image/png": "[encoded data removed]"
     },
     "metadata": {},
     "output_type": "display_data"
    }
   ],
   "execution_count": 94
  },
  {
   "metadata": {},
   "cell_type": "markdown",
   "source": "## Data normalization",
   "id": "e00b9b36326b7875"
  },
  {
   "metadata": {
    "ExecuteTime": {
     "end_time": "2024-12-05T22:17:26.065775Z",
     "start_time": "2024-12-05T22:17:23.999037Z"
    }
   },
   "cell_type": "code",
   "source": [
    "features = ['Sector', 'Industry']\n",
    "one_hot = pd.get_dummies(df[features], prefix=features)\n",
    "df = pd.concat([df.drop(features, axis=1), one_hot], axis=1)"
   ],
   "id": "f6d2bf3bd2f71fb1",
   "outputs": [],
   "execution_count": 95
  },
  {
   "metadata": {
    "ExecuteTime": {
     "end_time": "2024-12-05T22:17:26.385555Z",
     "start_time": "2024-12-05T22:17:26.236833Z"
    }
   },
   "cell_type": "code",
   "source": [
    "scal = MinMaxScaler(feature_range=(0, 1))\n",
    "scale_colum = ['Open', 'High', 'Low', 'Close', 'Volume', 'S&P500']\n",
    "df[scale_colum] = scal.fit_transform(df[scale_colum])"
   ],
   "id": "11f112075d89a142",
   "outputs": [],
   "execution_count": 96
  },
  {
   "metadata": {},
   "cell_type": "markdown",
   "source": "## Data splitting",
   "id": "c357a26e1e8e6525"
  },
  {
   "metadata": {
    "ExecuteTime": {
     "end_time": "2024-12-05T22:17:26.522789Z",
     "start_time": "2024-12-05T22:17:26.514475Z"
    }
   },
   "cell_type": "code",
   "source": [
    "train_size = int(len(df) * 0.8)\n",
    "# test_size = len(df) - train_size\n",
    "train, test = df[:train_size], df[train_size:]"
   ],
   "id": "18720bb6402cbc33",
   "outputs": [],
   "execution_count": 97
  },
  {
   "metadata": {},
   "cell_type": "markdown",
   "source": "## PyTorch Dataset",
   "id": "8bf9cd43dfebe8c0"
  },
  {
   "metadata": {
    "ExecuteTime": {
     "end_time": "2024-12-05T22:17:31.513553Z",
     "start_time": "2024-12-05T22:17:26.643636Z"
    }
   },
   "cell_type": "code",
   "source": [
    "look_back = 10\n",
    "\n",
    "def create_dataset(data, look_back):\n",
    "    numeric_data = data.select_dtypes(include=[np.number]).values\n",
    "\n",
    "    sequences, targets = [], []\n",
    "    for i in range(len(numeric_data) - look_back):\n",
    "        sequences.append(numeric_data[i:i + look_back])\n",
    "        targets.append(numeric_data[i + look_back, 3])\n",
    "\n",
    "    sequences = np.array(sequences, dtype=np.float32)\n",
    "    targets = np.array(targets, dtype=np.float32)\n",
    "\n",
    "    return torch.tensor(sequences).float(), torch.tensor(targets).float()\n",
    "\n",
    "train_sequences, train_targets = create_dataset(train, look_back)\n",
    "test_sequences, test_targets = create_dataset(test, look_back)\n",
    "\n",
    "# Создание DataLoader для обучения и тестирования\n",
    "train_dataset = TensorDataset(train_sequences, train_targets)\n",
    "test_dataset = TensorDataset(test_sequences, test_targets)\n",
    "\n",
    "train_loader = DataLoader(train_dataset, batch_size=32, shuffle=True)\n",
    "test_loader = DataLoader(test_dataset, batch_size=32, shuffle=False)"
   ],
   "id": "cbb054104961767e",
   "outputs": [],
   "execution_count": 98
  },
  {
   "metadata": {},
   "cell_type": "markdown",
   "source": "## ML/DL methods for dataset for 4.2",
   "id": "2cb297e19f52f013"
  },
  {
   "metadata": {},
   "cell_type": "markdown",
   "source": "Based on the task and the dataset we are working with, we can see that recurrent neural networks (RNN) are the most suitable, especially their extended versions, such as LSTM (Long Short-Term Memory) or GRU (Gated Recurrent Unit). They are well suited for dealing with sequential data in long term dependencies",
   "id": "1aacebc10b33e0c9"
  },
  {
   "metadata": {},
   "cell_type": "code",
   "outputs": [],
   "source": "",
   "id": "a3215a055e24c924",
   "execution_count": null
  }
 ],
 "metadata": {
  "kernelspec": {
   "display_name": "Python 3",
   "language": "python",
   "name": "python3"
  },
  "language_info": {
   "codemirror_mode": {
    "name": "ipython",
    "version": 2
   },
   "file_extension": ".py",
   "mimetype": "text/x-python",
   "name": "python",
   "nbconvert_exporter": "python",
   "pygments_lexer": "ipython2",
   "version": "2.7.6"
  }
 },
 "nbformat": 4,
 "nbformat_minor": 5
}
